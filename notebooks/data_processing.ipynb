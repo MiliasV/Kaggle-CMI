{
 "cells": [
  {
   "cell_type": "code",
   "execution_count": 8,
   "metadata": {},
   "outputs": [],
   "source": [
    "import numpy as np # linear algebra\n",
    "import os\n",
    "from PIL import Image\n",
    "#from skimage.transform import resize\n",
    "from random import shuffle"
   ]
  },
  {
   "cell_type": "code",
   "execution_count": 14,
   "metadata": {},
   "outputs": [
    {
     "name": "stdout",
     "output_type": "stream",
     "text": [
      "['Sony-NEX-7', 'HTC-1-M7', 'Motorola-Droid-Maxx', 'iPhone-6', 'Motorola-Nexus-6', 'Samsung-Galaxy-S4', 'Motorola-X', 'LG-Nexus-5x', 'Samsung-Galaxy-Note3', 'iPhone-4s']\n"
     ]
    }
   ],
   "source": [
    "# define paths\n",
    "train_path = \"../train/\"\n",
    "test_path = \"../test/\"\n",
    "add_data_path = \"../flickr_images/\"\n",
    "\n",
    "# print mobile models\n",
    "models = os.listdir(train_path)\n",
    "print(models)\n"
   ]
  },
  {
   "cell_type": "code",
   "execution_count": 15,
   "metadata": {},
   "outputs": [],
   "source": [
    "# Cropping function\n",
    "def center_crop(img_path, new_width, new_height):\n",
    "        im = Image.open(img_path)\n",
    "        width, height = im.size   # Get dimensions\n",
    "        left = (width - new_width)/2\n",
    "        top = (height - new_height)/2\n",
    "        right = (width + new_width)/2\n",
    "        bottom = (height + new_height)/2\n",
    "        result = im.crop((left, top, right, bottom))\n",
    "        return result        "
   ]
  },
  {
   "cell_type": "code",
   "execution_count": 16,
   "metadata": {},
   "outputs": [
    {
     "name": "stdout",
     "output_type": "stream",
     "text": [
      "Sony-NEX-7\n",
      "HTC-1-M7\n",
      "Motorola-Droid-Maxx\n",
      "iPhone-6\n",
      "Motorola-Nexus-6\n",
      "Samsung-Galaxy-S4\n",
      "Motorola-X\n",
      "LG-Nexus-5x\n",
      "Samsung-Galaxy-Note3\n",
      "iPhone-4s\n"
     ]
    }
   ],
   "source": [
    "# transform images to 512x512 (cropping from the center)\n",
    "new_width = 512\n",
    "new_height = 512\n",
    "\n",
    "for folder in os.listdir(train_path):\n",
    "    print(folder)\n",
    "    for pic in os.listdir(train_path + folder + \"/\"):\n",
    "        img_path = train_path + folder + \"/\" + pic\n",
    "        img_cropped = center_crop(img_path, 512, 512)\n",
    "        directory = \"../train_cropped/\" + folder\n",
    "        # create dir if it doesn't exist\n",
    "        if not os.path.exists(directory):\n",
    "            os.makedirs(directory)\n",
    "        img_cropped.save(\"../train_cropped/\" + folder + \"/cropped\" + \"_\" + pic )"
   ]
  },
  {
   "cell_type": "code",
   "execution_count": 10,
   "metadata": {},
   "outputs": [
    {
     "name": "stdout",
     "output_type": "stream",
     "text": [
      "(55, 275)\n",
      "['cropped_(Nex7)30.JPG', 'cropped_(Nex7)156.JPG', 'cropped_(Nex7)28.JPG', 'cropped_(Nex7)182.JPG', 'cropped_(Nex7)164.JPG', 'cropped_(Nex7)140.JPG', 'cropped_(Nex7)10.JPG', 'cropped_(Nex7)175.JPG', 'cropped_(Nex7)23.JPG', 'cropped_(Nex7)38.JPG', 'cropped_(Nex7)146.JPG', 'cropped_(Nex7)185.JPG', 'cropped_(Nex7)163.JPG', 'cropped_(Nex7)245.JPG', 'cropped_(Nex7)73.JPG', 'cropped_(Nex7)133.JPG', 'cropped_(Nex7)168.JPG', 'cropped_(Nex7)126.JPG', 'cropped_(Nex7)51.JPG', 'cropped_(Nex7)39.JPG', 'cropped_(Nex7)116.JPG', 'cropped_(Nex7)167.JPG', 'cropped_(Nex7)84.JPG', 'cropped_(Nex7)12.JPG', 'cropped_(Nex7)150.JPG', 'cropped_(Nex7)13.JPG', 'cropped_(Nex7)188.JPG', 'cropped_(Nex7)105.JPG', 'cropped_(Nex7)202.JPG', 'cropped_(Nex7)20.JPG', 'cropped_(Nex7)131.JPG', 'cropped_(Nex7)24.JPG', 'cropped_(Nex7)197.JPG', 'cropped_(Nex7)108.JPG', 'cropped_(Nex7)71.JPG', 'cropped_(Nex7)258.JPG', 'cropped_(Nex7)69.JPG', 'cropped_(Nex7)214.JPG', 'cropped_(Nex7)248.JPG', 'cropped_(Nex7)179.JPG', 'cropped_(Nex7)193.JPG', 'cropped_(Nex7)81.JPG', 'cropped_(Nex7)111.JPG', 'cropped_(Nex7)204.JPG', 'cropped_(Nex7)104.JPG', 'cropped_(Nex7)181.JPG', 'cropped_(Nex7)21.JPG', 'cropped_(Nex7)242.JPG', 'cropped_(Nex7)53.JPG', 'cropped_(Nex7)169.JPG', 'cropped_(Nex7)123.JPG', 'cropped_(Nex7)3.JPG', 'cropped_(Nex7)153.JPG', 'cropped_(Nex7)201.JPG', 'cropped_(Nex7)192.JPG']\n",
      "(55, 275)\n",
      "['cropped_(HTC-1-M7)232.jpg', 'cropped_(HTC-1-M7)217.jpg', 'cropped_(HTC-1-M7)46.jpg', 'cropped_(HTC-1-M7)186.jpg', 'cropped_(HTC-1-M7)97.jpg', 'cropped_(HTC-1-M7)13.jpg', 'cropped_(HTC-1-M7)140.jpg', 'cropped_(HTC-1-M7)245.jpg', 'cropped_(HTC-1-M7)218.jpg', 'cropped_(HTC-1-M7)123.jpg', 'cropped_(HTC-1-M7)59.jpg', 'cropped_(HTC-1-M7)225.jpg', 'cropped_(HTC-1-M7)198.jpg', 'cropped_(HTC-1-M7)109.jpg', 'cropped_(HTC-1-M7)267.jpg', 'cropped_(HTC-1-M7)78.jpg', 'cropped_(HTC-1-M7)256.jpg', 'cropped_(HTC-1-M7)25.jpg', 'cropped_(HTC-1-M7)18.jpg', 'cropped_(HTC-1-M7)228.jpg', 'cropped_(HTC-1-M7)145.jpg', 'cropped_(HTC-1-M7)57.jpg', 'cropped_(HTC-1-M7)257.jpg', 'cropped_(HTC-1-M7)234.jpg', 'cropped_(HTC-1-M7)190.jpg', 'cropped_(HTC-1-M7)99.jpg', 'cropped_(HTC-1-M7)112.jpg', 'cropped_(HTC-1-M7)174.jpg', 'cropped_(HTC-1-M7)8.jpg', 'cropped_(HTC-1-M7)272.jpg', 'cropped_(HTC-1-M7)138.jpg', 'cropped_(HTC-1-M7)175.jpg', 'cropped_(HTC-1-M7)117.jpg', 'cropped_(HTC-1-M7)230.jpg', 'cropped_(HTC-1-M7)9.jpg', 'cropped_(HTC-1-M7)118.jpg', 'cropped_(HTC-1-M7)143.jpg', 'cropped_(HTC-1-M7)148.jpg', 'cropped_(HTC-1-M7)241.jpg', 'cropped_(HTC-1-M7)22.jpg', 'cropped_(HTC-1-M7)254.jpg', 'cropped_(HTC-1-M7)153.jpg', 'cropped_(HTC-1-M7)113.jpg', 'cropped_(HTC-1-M7)41.jpg', 'cropped_(HTC-1-M7)70.jpg', 'cropped_(HTC-1-M7)10.jpg', 'cropped_(HTC-1-M7)259.jpg', 'cropped_(HTC-1-M7)239.jpg', 'cropped_(HTC-1-M7)102.jpg', 'cropped_(HTC-1-M7)242.jpg', 'cropped_(HTC-1-M7)96.jpg', 'cropped_(HTC-1-M7)201.jpg', 'cropped_(HTC-1-M7)192.jpg', 'cropped_(HTC-1-M7)77.jpg', 'cropped_(HTC-1-M7)134.jpg']\n",
      "(55, 275)\n",
      "['cropped_(MotoMax)272.jpg', 'cropped_(MotoMax)91.jpg', 'cropped_(MotoMax)28.jpg', 'cropped_(MotoMax)37.jpg', 'cropped_(MotoMax)112.jpg', 'cropped_(MotoMax)42.jpg', 'cropped_(MotoMax)144.jpg', 'cropped_(MotoMax)206.jpg', 'cropped_(MotoMax)140.jpg', 'cropped_(MotoMax)4.jpg', 'cropped_(MotoMax)7.jpg', 'cropped_(MotoMax)158.jpg', 'cropped_(MotoMax)145.jpg', 'cropped_(MotoMax)202.jpg', 'cropped_(MotoMax)159.jpg', 'cropped_(MotoMax)101.jpg', 'cropped_(MotoMax)40.jpg', 'cropped_(MotoMax)271.jpg', 'cropped_(MotoMax)269.jpg', 'cropped_(MotoMax)143.jpg', 'cropped_(MotoMax)119.jpg', 'cropped_(MotoMax)218.jpg', 'cropped_(MotoMax)207.jpg', 'cropped_(MotoMax)169.jpg', 'cropped_(MotoMax)137.jpg', 'cropped_(MotoMax)230.jpg', 'cropped_(MotoMax)109.jpg', 'cropped_(MotoMax)195.jpg', 'cropped_(MotoMax)141.jpg', 'cropped_(MotoMax)8.jpg', 'cropped_(MotoMax)29.jpg', 'cropped_(MotoMax)35.jpg', 'cropped_(MotoMax)151.jpg', 'cropped_(MotoMax)262.jpg', 'cropped_(MotoMax)236.jpg', 'cropped_(MotoMax)197.jpg', 'cropped_(MotoMax)198.jpg', 'cropped_(MotoMax)54.jpg', 'cropped_(MotoMax)129.jpg', 'cropped_(MotoMax)24.jpg', 'cropped_(MotoMax)82.jpg', 'cropped_(MotoMax)105.jpg', 'cropped_(MotoMax)17.jpg', 'cropped_(MotoMax)205.jpg', 'cropped_(MotoMax)222.jpg', 'cropped_(MotoMax)201.jpg', 'cropped_(MotoMax)254.jpg', 'cropped_(MotoMax)34.jpg', 'cropped_(MotoMax)163.jpg', 'cropped_(MotoMax)5.jpg', 'cropped_(MotoMax)57.jpg', 'cropped_(MotoMax)90.jpg', 'cropped_(MotoMax)128.jpg', 'cropped_(MotoMax)228.jpg', 'cropped_(MotoMax)73.jpg']\n",
      "(55, 275)\n",
      "['cropped_(iP6)266.jpg', 'cropped_(iP6)41.jpg', 'cropped_(iP6)20.jpg', 'cropped_(iP6)124.jpg', 'cropped_(iP6)114.jpg', 'cropped_(iP6)223.jpg', 'cropped_(iP6)173.jpg', 'cropped_(iP6)179.jpg', 'cropped_(iP6)174.jpg', 'cropped_(iP6)10.jpg', 'cropped_(iP6)180.jpg', 'cropped_(iP6)214.jpg', 'cropped_(iP6)99.jpg', 'cropped_(iP6)233.jpg', 'cropped_(iP6)198.jpg', 'cropped_(iP6)205.jpg', 'cropped_(iP6)134.jpg', 'cropped_(iP6)234.jpg', 'cropped_(iP6)8.jpg', 'cropped_(iP6)245.jpg', 'cropped_(iP6)39.jpg', 'cropped_(iP6)108.jpg', 'cropped_(iP6)249.jpg', 'cropped_(iP6)162.jpg', 'cropped_(iP6)38.jpg', 'cropped_(iP6)83.jpg', 'cropped_(iP6)7.jpg', 'cropped_(iP6)96.jpg', 'cropped_(iP6)211.jpg', 'cropped_(iP6)78.jpg', 'cropped_(iP6)109.jpg', 'cropped_(iP6)84.jpg', 'cropped_(iP6)82.jpg', 'cropped_(iP6)155.jpg', 'cropped_(iP6)154.jpg', 'cropped_(iP6)237.jpg', 'cropped_(iP6)107.jpg', 'cropped_(iP6)253.jpg', 'cropped_(iP6)23.jpg', 'cropped_(iP6)256.jpg', 'cropped_(iP6)11.jpg', 'cropped_(iP6)5.jpg', 'cropped_(iP6)182.jpg', 'cropped_(iP6)243.jpg', 'cropped_(iP6)160.jpg', 'cropped_(iP6)6.jpg', 'cropped_(iP6)219.jpg', 'cropped_(iP6)95.jpg', 'cropped_(iP6)21.jpg', 'cropped_(iP6)201.jpg', 'cropped_(iP6)57.jpg', 'cropped_(iP6)195.jpg', 'cropped_(iP6)24.jpg', 'cropped_(iP6)91.jpg', 'cropped_(iP6)12.jpg']\n",
      "(55, 275)\n",
      "['cropped_(MotoNex6)77.jpg', 'cropped_(MotoNex6)149.jpg', 'cropped_(MotoNex6)155.jpg', 'cropped_(MotoNex6)180.jpg', 'cropped_(MotoNex6)258.jpg', 'cropped_(MotoNex6)98.jpg', 'cropped_(MotoNex6)248.jpg', 'cropped_(MotoNex6)220.jpg', 'cropped_(MotoNex6)3.jpg', 'cropped_(MotoNex6)273.jpg', 'cropped_(MotoNex6)134.jpg', 'cropped_(MotoNex6)82.jpg', 'cropped_(MotoNex6)266.jpg', 'cropped_(MotoNex6)223.jpg', 'cropped_(MotoNex6)157.jpg', 'cropped_(MotoNex6)263.jpg', 'cropped_(MotoNex6)18.jpg', 'cropped_(MotoNex6)12.jpg', 'cropped_(MotoNex6)89.jpg', 'cropped_(MotoNex6)47.jpg', 'cropped_(MotoNex6)198.jpg', 'cropped_(MotoNex6)182.jpg', 'cropped_(MotoNex6)177.jpg', 'cropped_(MotoNex6)75.jpg', 'cropped_(MotoNex6)55.jpg', 'cropped_(MotoNex6)206.jpg', 'cropped_(MotoNex6)126.jpg', 'cropped_(MotoNex6)71.jpg', 'cropped_(MotoNex6)256.jpg', 'cropped_(MotoNex6)94.jpg', 'cropped_(MotoNex6)252.jpg', 'cropped_(MotoNex6)113.jpg', 'cropped_(MotoNex6)21.jpg', 'cropped_(MotoNex6)22.jpg', 'cropped_(MotoNex6)26.jpg', 'cropped_(MotoNex6)31.jpg', 'cropped_(MotoNex6)32.jpg', 'cropped_(MotoNex6)14.jpg', 'cropped_(MotoNex6)8.jpg', 'cropped_(MotoNex6)262.jpg', 'cropped_(MotoNex6)143.jpg', 'cropped_(MotoNex6)41.jpg', 'cropped_(MotoNex6)244.jpg', 'cropped_(MotoNex6)199.jpg', 'cropped_(MotoNex6)229.jpg', 'cropped_(MotoNex6)44.jpg', 'cropped_(MotoNex6)260.jpg', 'cropped_(MotoNex6)243.jpg', 'cropped_(MotoNex6)156.jpg', 'cropped_(MotoNex6)265.jpg', 'cropped_(MotoNex6)45.jpg', 'cropped_(MotoNex6)234.jpg', 'cropped_(MotoNex6)246.jpg', 'cropped_(MotoNex6)176.jpg', 'cropped_(MotoNex6)230.jpg']\n",
      "(55, 275)\n",
      "['cropped_(GalaxyS4)197.jpg', 'cropped_(GalaxyS4)173.jpg', 'cropped_(GalaxyS4)186.jpg', 'cropped_(GalaxyS4)102.jpg', 'cropped_(GalaxyS4)240.jpg', 'cropped_(GalaxyS4)44.jpg', 'cropped_(GalaxyS4)219.jpg', 'cropped_(GalaxyS4)147.jpg', 'cropped_(GalaxyS4)81.jpg', 'cropped_(GalaxyS4)181.jpg', 'cropped_(GalaxyS4)159.jpg', 'cropped_(GalaxyS4)32.jpg', 'cropped_(GalaxyS4)224.jpg', 'cropped_(GalaxyS4)165.jpg', 'cropped_(GalaxyS4)38.jpg', 'cropped_(GalaxyS4)18.jpg', 'cropped_(GalaxyS4)95.jpg', 'cropped_(GalaxyS4)145.jpg', 'cropped_(GalaxyS4)169.jpg', 'cropped_(GalaxyS4)40.jpg', 'cropped_(GalaxyS4)152.jpg', 'cropped_(GalaxyS4)20.jpg', 'cropped_(GalaxyS4)222.jpg', 'cropped_(GalaxyS4)144.jpg', 'cropped_(GalaxyS4)150.jpg', 'cropped_(GalaxyS4)251.jpg', 'cropped_(GalaxyS4)205.jpg', 'cropped_(GalaxyS4)237.jpg', 'cropped_(GalaxyS4)110.jpg', 'cropped_(GalaxyS4)122.jpg', 'cropped_(GalaxyS4)235.jpg', 'cropped_(GalaxyS4)58.jpg', 'cropped_(GalaxyS4)67.jpg', 'cropped_(GalaxyS4)203.jpg', 'cropped_(GalaxyS4)23.jpg', 'cropped_(GalaxyS4)71.jpg', 'cropped_(GalaxyS4)207.jpg', 'cropped_(GalaxyS4)216.jpg', 'cropped_(GalaxyS4)53.jpg', 'cropped_(GalaxyS4)14.jpg', 'cropped_(GalaxyS4)208.jpg', 'cropped_(GalaxyS4)170.jpg', 'cropped_(GalaxyS4)184.jpg', 'cropped_(GalaxyS4)69.jpg', 'cropped_(GalaxyS4)174.jpg', 'cropped_(GalaxyS4)272.jpg', 'cropped_(GalaxyS4)199.jpg', 'cropped_(GalaxyS4)41.jpg', 'cropped_(GalaxyS4)140.jpg', 'cropped_(GalaxyS4)242.jpg', 'cropped_(GalaxyS4)96.jpg', 'cropped_(GalaxyS4)101.jpg', 'cropped_(GalaxyS4)125.jpg', 'cropped_(GalaxyS4)160.jpg', 'cropped_(GalaxyS4)183.jpg']\n",
      "(55, 275)\n",
      "['cropped_(MotoX)10.jpg', 'cropped_(MotoX)259.jpg', 'cropped_(MotoX)171.jpg', 'cropped_(MotoX)78.jpg', 'cropped_(MotoX)131.jpg', 'cropped_(MotoX)90.jpg', 'cropped_(MotoX)49.jpg', 'cropped_(MotoX)255.jpg', 'cropped_(MotoX)5.jpg', 'cropped_(MotoX)225.jpg', 'cropped_(MotoX)245.jpg', 'cropped_(MotoX)27.jpg', 'cropped_(MotoX)173.jpg', 'cropped_(MotoX)273.jpg', 'cropped_(MotoX)42.jpg', 'cropped_(MotoX)261.jpg', 'cropped_(MotoX)220.jpg', 'cropped_(MotoX)67.jpg', 'cropped_(MotoX)242.jpg', 'cropped_(MotoX)98.jpg', 'cropped_(MotoX)2.jpg', 'cropped_(MotoX)123.jpg', 'cropped_(MotoX)268.jpg', 'cropped_(MotoX)84.jpg', 'cropped_(MotoX)57.jpg', 'cropped_(MotoX)115.jpg', 'cropped_(MotoX)39.jpg', 'cropped_(MotoX)188.jpg', 'cropped_(MotoX)197.jpg', 'cropped_(MotoX)222.jpg', 'cropped_(MotoX)206.jpg', 'cropped_(MotoX)214.jpg', 'cropped_(MotoX)32.jpg', 'cropped_(MotoX)195.jpg', 'cropped_(MotoX)28.jpg', 'cropped_(MotoX)111.jpg', 'cropped_(MotoX)154.jpg', 'cropped_(MotoX)241.jpg', 'cropped_(MotoX)4.jpg', 'cropped_(MotoX)76.jpg', 'cropped_(MotoX)157.jpg', 'cropped_(MotoX)96.jpg', 'cropped_(MotoX)217.jpg', 'cropped_(MotoX)51.jpg', 'cropped_(MotoX)138.jpg', 'cropped_(MotoX)79.jpg', 'cropped_(MotoX)210.jpg', 'cropped_(MotoX)149.jpg', 'cropped_(MotoX)92.jpg', 'cropped_(MotoX)53.jpg', 'cropped_(MotoX)15.jpg', 'cropped_(MotoX)129.jpg', 'cropped_(MotoX)205.jpg', 'cropped_(MotoX)151.jpg', 'cropped_(MotoX)33.jpg']\n",
      "(55, 275)\n",
      "['cropped_(LG5x)210.jpg', 'cropped_(LG5x)101.jpg', 'cropped_(LG5x)87.jpg', 'cropped_(LG5x)84.jpg', 'cropped_(LG5x)57.jpg', 'cropped_(LG5x)118.jpg', 'cropped_(LG5x)167.jpg', 'cropped_(LG5x)100.jpg', 'cropped_(LG5x)225.jpg', 'cropped_(LG5x)231.jpg', 'cropped_(LG5x)12.jpg', 'cropped_(LG5x)32.jpg', 'cropped_(LG5x)234.jpg', 'cropped_(LG5x)36.jpg', 'cropped_(LG5x)127.jpg', 'cropped_(LG5x)194.jpg', 'cropped_(LG5x)52.jpg', 'cropped_(LG5x)66.jpg', 'cropped_(LG5x)30.jpg', 'cropped_(LG5x)204.jpg', 'cropped_(LG5x)213.jpg', 'cropped_(LG5x)114.jpg', 'cropped_(LG5x)109.jpg', 'cropped_(LG5x)45.jpg', 'cropped_(LG5x)156.jpg', 'cropped_(LG5x)120.jpg', 'cropped_(LG5x)263.jpg', 'cropped_(LG5x)13.jpg', 'cropped_(LG5x)236.jpg', 'cropped_(LG5x)168.jpg', 'cropped_(LG5x)252.jpg', 'cropped_(LG5x)70.jpg', 'cropped_(LG5x)28.jpg', 'cropped_(LG5x)6.jpg', 'cropped_(LG5x)20.jpg', 'cropped_(LG5x)29.jpg', 'cropped_(LG5x)60.jpg', 'cropped_(LG5x)174.jpg', 'cropped_(LG5x)179.jpg', 'cropped_(LG5x)93.jpg', 'cropped_(LG5x)227.jpg', 'cropped_(LG5x)188.jpg', 'cropped_(LG5x)177.jpg', 'cropped_(LG5x)2.jpg', 'cropped_(LG5x)244.jpg', 'cropped_(LG5x)140.jpg', 'cropped_(LG5x)72.jpg', 'cropped_(LG5x)86.jpg', 'cropped_(LG5x)240.jpg', 'cropped_(LG5x)259.jpg', 'cropped_(LG5x)136.jpg', 'cropped_(LG5x)27.jpg', 'cropped_(LG5x)75.jpg', 'cropped_(LG5x)14.jpg', 'cropped_(LG5x)163.jpg']\n"
     ]
    },
    {
     "name": "stdout",
     "output_type": "stream",
     "text": [
      "(55, 275)\n",
      "['cropped_(GalaxyN3)144.jpg', 'cropped_(GalaxyN3)13.jpg', 'cropped_(GalaxyN3)225.jpg', 'cropped_(GalaxyN3)128.jpg', 'cropped_(GalaxyN3)5.jpg', 'cropped_(GalaxyN3)61.jpg', 'cropped_(GalaxyN3)229.jpg', 'cropped_(GalaxyN3)165.jpg', 'cropped_(GalaxyN3)84.jpg', 'cropped_(GalaxyN3)104.jpg', 'cropped_(GalaxyN3)57.jpg', 'cropped_(GalaxyN3)203.jpg', 'cropped_(GalaxyN3)204.jpg', 'cropped_(GalaxyN3)231.jpg', 'cropped_(GalaxyN3)41.jpg', 'cropped_(GalaxyN3)272.jpg', 'cropped_(GalaxyN3)216.jpg', 'cropped_(GalaxyN3)196.jpg', 'cropped_(GalaxyN3)4.jpg', 'cropped_(GalaxyN3)20.jpg', 'cropped_(GalaxyN3)161.jpg', 'cropped_(GalaxyN3)174.jpg', 'cropped_(GalaxyN3)175.jpg', 'cropped_(GalaxyN3)208.jpg', 'cropped_(GalaxyN3)95.jpg', 'cropped_(GalaxyN3)219.jpg', 'cropped_(GalaxyN3)250.jpg', 'cropped_(GalaxyN3)54.jpg', 'cropped_(GalaxyN3)123.jpg', 'cropped_(GalaxyN3)153.jpg', 'cropped_(GalaxyN3)49.jpg', 'cropped_(GalaxyN3)115.jpg', 'cropped_(GalaxyN3)97.jpg', 'cropped_(GalaxyN3)141.jpg', 'cropped_(GalaxyN3)189.jpg', 'cropped_(GalaxyN3)258.jpg', 'cropped_(GalaxyN3)62.jpg', 'cropped_(GalaxyN3)108.jpg', 'cropped_(GalaxyN3)100.jpg', 'cropped_(GalaxyN3)131.jpg', 'cropped_(GalaxyN3)238.jpg', 'cropped_(GalaxyN3)260.jpg', 'cropped_(GalaxyN3)3.jpg', 'cropped_(GalaxyN3)210.jpg', 'cropped_(GalaxyN3)96.jpg', 'cropped_(GalaxyN3)30.jpg', 'cropped_(GalaxyN3)91.jpg', 'cropped_(GalaxyN3)223.jpg', 'cropped_(GalaxyN3)157.jpg', 'cropped_(GalaxyN3)63.jpg', 'cropped_(GalaxyN3)51.jpg', 'cropped_(GalaxyN3)244.jpg', 'cropped_(GalaxyN3)246.jpg', 'cropped_(GalaxyN3)59.jpg', 'cropped_(GalaxyN3)82.jpg']\n",
      "(55, 275)\n",
      "['cropped_(iP4s)172.jpg', 'cropped_(iP4s)138.jpg', 'cropped_(iP4s)132.jpg', 'cropped_(iP4s)94.jpg', 'cropped_(iP4s)224.jpg', 'cropped_(iP4s)96.jpg', 'cropped_(iP4s)122.jpg', 'cropped_(iP4s)254.jpg', 'cropped_(iP4s)78.jpg', 'cropped_(iP4s)5.jpg', 'cropped_(iP4s)36.jpg', 'cropped_(iP4s)117.jpg', 'cropped_(iP4s)144.jpg', 'cropped_(iP4s)58.jpg', 'cropped_(iP4s)200.jpg', 'cropped_(iP4s)194.jpg', 'cropped_(iP4s)62.jpg', 'cropped_(iP4s)25.jpg', 'cropped_(iP4s)130.jpg', 'cropped_(iP4s)146.jpg', 'cropped_(iP4s)10.jpg', 'cropped_(iP4s)210.jpg', 'cropped_(iP4s)190.jpg', 'cropped_(iP4s)17.jpg', 'cropped_(iP4s)119.jpg', 'cropped_(iP4s)133.jpg', 'cropped_(iP4s)156.jpg', 'cropped_(iP4s)4.jpg', 'cropped_(iP4s)218.jpg', 'cropped_(iP4s)54.jpg', 'cropped_(iP4s)91.jpg', 'cropped_(iP4s)231.jpg', 'cropped_(iP4s)182.jpg', 'cropped_(iP4s)85.jpg', 'cropped_(iP4s)253.jpg', 'cropped_(iP4s)22.jpg', 'cropped_(iP4s)16.jpg', 'cropped_(iP4s)143.jpg', 'cropped_(iP4s)2.jpg', 'cropped_(iP4s)116.jpg', 'cropped_(iP4s)44.jpg', 'cropped_(iP4s)109.jpg', 'cropped_(iP4s)245.jpg', 'cropped_(iP4s)101.jpg', 'cropped_(iP4s)201.jpg', 'cropped_(iP4s)252.jpg', 'cropped_(iP4s)73.jpg', 'cropped_(iP4s)235.jpg', 'cropped_(iP4s)88.jpg', 'cropped_(iP4s)273.jpg', 'cropped_(iP4s)80.jpg', 'cropped_(iP4s)257.jpg', 'cropped_(iP4s)21.jpg', 'cropped_(iP4s)233.jpg', 'cropped_(iP4s)154.jpg']\n"
     ]
    }
   ],
   "source": [
    "import shutil\n",
    "import numpy as np\n",
    "import os\n",
    "import random\n",
    "\n",
    "def create_if_not_exist(directory):\n",
    "    if not os.path.exists(directory):\n",
    "        os.makedirs(directory)\n",
    "\n",
    "def create_train_val_dir(source, train_perc):\n",
    "    # create train, validation sets\n",
    "    #source = \"../train_manip\"\n",
    "    train_set = \"../train_set_cropped\"\n",
    "    val_set = \"../val_set_cropped\"\n",
    "\n",
    "    # create dir if it doesn't exist\n",
    "    for directory in [train_set, val_set]:\n",
    "        if not os.path.exists(directory):\n",
    "            os.makedirs(directory)\n",
    "\n",
    "    folders = os.listdir(source)\n",
    "\n",
    "    for f in folders:\n",
    "        val_dir = val_set + '/'+ f + \"/\"\n",
    "        train_dir = train_set + '/'+ f + \"/\"\n",
    "        create_if_not_exist(val_dir)\n",
    "        create_if_not_exist(train_dir)\n",
    "        \n",
    "        val_pics = list(os.listdir(source + \"/\" + f + \"/\"))\n",
    "        k = len(val_pics) * train_perc // 100\n",
    "        print(k, len(val_pics))\n",
    "        indicies = random.sample(val_pics, k)\n",
    "        print((indicies))\n",
    "\n",
    "        for pic in val_pics:\n",
    "            if pic in indicies:\n",
    "                shutil.copy(source + '/'+ f + \"/\" + pic, val_dir)\n",
    "#             elif train_perc< rand_num <= train_perc + val_perc:\n",
    "#                 shutil.copy(source + '/'+ f + \"/\" + pic, test_dir)\n",
    "            else:\n",
    "                shutil.copy(source + '/'+ f + \"/\" + pic, train_dir)\n",
    "            \n",
    "create_train_val_dir(\"../processed_data/train_cropped\", 20)\n",
    "        "
   ]
  },
  {
   "cell_type": "code",
   "execution_count": 66,
   "metadata": {},
   "outputs": [],
   "source": [
    "# First Experiment\n",
    "from keras.models import Sequential\n",
    "from keras.layers import Conv2D, MaxPooling2D\n",
    "from keras.layers import Activation, Dropout, Flatten, Dense\n",
    "\n",
    "model = Sequential()\n",
    "model.add(Conv2D(64, (3, 3), input_shape=(512, 512, 3)))\n",
    "model.add(Activation('relu'))\n",
    "model.add(MaxPooling2D(pool_size=(2, 2)))\n",
    "\n",
    "model.add(Conv2D(32, (3, 3)))\n",
    "model.add(Activation('relu'))\n",
    "model.add(MaxPooling2D(pool_size=(2, 2)))\n",
    "\n",
    "model.add(Conv2D(32, (3, 3)))\n",
    "model.add(Activation('relu'))\n",
    "model.add(MaxPooling2D(pool_size=(2, 2)))\n",
    "# # # the model so far outputs 3D feature maps (height, width, features)\n",
    "\n",
    "model.add(Conv2D(32, (3, 3)))\n",
    "model.add(Activation('relu'))\n",
    "model.add(MaxPooling2D(pool_size=(2, 2)))\n",
    "\n",
    "model.add(Conv2D(32, (3, 3)))\n",
    "model.add(Activation('relu'))\n",
    "model.add(MaxPooling2D(pool_size=(2, 2)))\n",
    "\n",
    "model.add(Conv2D(32, (3, 3)))\n",
    "model.add(Activation('relu'))\n",
    "model.add(MaxPooling2D(pool_size=(2, 2)))\n",
    "\n",
    "model.add(Flatten())  # this converts our 3D feature maps to 1D feature vectors\n",
    "model.add(Dense(64))\n",
    "model.add(Activation('relu'))\n",
    "#model.add(Dropout(0.5))\n",
    "model.add(Dense(10))\n",
    "model.add(Activation('softmax'))\n",
    "\n",
    "model.compile(loss = 'categorical_crossentropy',\n",
    "              optimizer = 'adam',\n",
    "              metrics = ['accuracy'])"
   ]
  },
  {
   "cell_type": "code",
   "execution_count": 67,
   "metadata": {},
   "outputs": [],
   "source": [
    "# Image Augmentation\n",
    "\n",
    "# resizing (via bicubic interpolation) by a factor of 0.5\n",
    "# resizing (via bicubic interpolation) by a factor of 0.8\n",
    "# resizing (via bicubic interpolation) by a factor of 1.5\n",
    "# resizing (via bicubic interpolation) by a factor of 2.0\n",
    "# gamma correction using gamma = 0.8\n",
    "# gamma correction using gamma = 1.2\n",
    "\n",
    "\n",
    "\n",
    "from keras.preprocessing.image import ImageDataGenerator\n",
    "\n",
    "datagen = ImageDataGenerator(\n",
    "        rotation_range=40,\n",
    "        width_shift_range=0.2,\n",
    "        height_shift_range=0.2,\n",
    "        rescale=1./255,\n",
    "        shear_range=0.2,\n",
    "        zoom_range=0.2,\n",
    "        horizontal_flip=True,\n",
    "        vertical_flip = True,\n",
    "        fill_mode='nearest')"
   ]
  },
  {
   "cell_type": "code",
   "execution_count": 69,
   "metadata": {},
   "outputs": [
    {
     "name": "stdout",
     "output_type": "stream",
     "text": [
      "Found 1924 images belonging to 10 classes.\n",
      "Found 557 images belonging to 10 classes.\n",
      "Found 269 images belonging to 10 classes.\n",
      "Epoch 1/25\n",
      "5/5 [==============================] - 40s - loss: 2.3015 - acc: 0.1000 - val_loss: 2.3022 - val_acc: 0.1000\n",
      "Epoch 2/25\n",
      "5/5 [==============================] - 39s - loss: 2.3023 - acc: 0.0750 - val_loss: 2.3021 - val_acc: 0.1041\n",
      "Epoch 3/25\n",
      "5/5 [==============================] - 40s - loss: 2.3034 - acc: 0.1250 - val_loss: 2.3027 - val_acc: 0.1031\n",
      "Epoch 4/25\n",
      "5/5 [==============================] - 40s - loss: 2.3038 - acc: 0.0750 - val_loss: 2.3007 - val_acc: 0.0883\n",
      "Epoch 5/25\n",
      "5/5 [==============================] - 42s - loss: 2.3036 - acc: 0.0500 - val_loss: 2.3027 - val_acc: 0.0938\n",
      "Epoch 6/25\n",
      "5/5 [==============================] - 41s - loss: 2.3008 - acc: 0.0750 - val_loss: 2.3027 - val_acc: 0.0688\n",
      "Epoch 7/25\n",
      "5/5 [==============================] - 40s - loss: 2.3039 - acc: 0.0875 - val_loss: 2.3020 - val_acc: 0.0978\n",
      "Epoch 8/25\n",
      "5/5 [==============================] - 41s - loss: 2.3070 - acc: 0.0500 - val_loss: 2.3024 - val_acc: 0.1281\n",
      "Epoch 9/25\n",
      "5/5 [==============================] - 40s - loss: 2.2996 - acc: 0.1250 - val_loss: 2.3016 - val_acc: 0.1009\n",
      "Epoch 10/25\n",
      "5/5 [==============================] - 40s - loss: 2.3039 - acc: 0.0250 - val_loss: 2.3026 - val_acc: 0.1009\n",
      "Epoch 11/25\n",
      "5/5 [==============================] - 40s - loss: 2.3034 - acc: 0.0625 - val_loss: 2.3026 - val_acc: 0.1000\n",
      "Epoch 12/25\n",
      "5/5 [==============================] - 39s - loss: 2.3005 - acc: 0.1250 - val_loss: 2.3019 - val_acc: 0.0852\n",
      "Epoch 13/25\n",
      "5/5 [==============================] - 39s - loss: 2.3017 - acc: 0.1000 - val_loss: 2.3016 - val_acc: 0.0969\n",
      "Epoch 14/25\n",
      "5/5 [==============================] - 38s - loss: 2.3035 - acc: 0.0875 - val_loss: 2.3033 - val_acc: 0.0789\n",
      "Epoch 15/25\n",
      "5/5 [==============================] - 38s - loss: 2.3049 - acc: 0.0625 - val_loss: 2.3023 - val_acc: 0.1167\n",
      "Epoch 16/25\n",
      "5/5 [==============================] - 39s - loss: 2.3030 - acc: 0.0625 - val_loss: 2.3025 - val_acc: 0.1062\n",
      "Epoch 17/25\n",
      "5/5 [==============================] - 38s - loss: 2.3023 - acc: 0.0750 - val_loss: 2.3012 - val_acc: 0.1167\n",
      "Epoch 18/25\n",
      "5/5 [==============================] - 39s - loss: 2.3045 - acc: 0.0750 - val_loss: 2.3035 - val_acc: 0.0969\n",
      "Epoch 19/25\n",
      "5/5 [==============================] - 39s - loss: 2.3029 - acc: 0.1500 - val_loss: 2.3021 - val_acc: 0.0852\n",
      "Epoch 20/25\n",
      "5/5 [==============================] - 39s - loss: 2.3052 - acc: 0.0750 - val_loss: 2.3026 - val_acc: 0.1041\n",
      "Epoch 21/25\n",
      "5/5 [==============================] - 38s - loss: 2.3038 - acc: 0.0875 - val_loss: 2.3023 - val_acc: 0.0844\n",
      "Epoch 22/25\n",
      "5/5 [==============================] - 39s - loss: 2.3023 - acc: 0.1375 - val_loss: 2.3027 - val_acc: 0.0915\n",
      "Epoch 23/25\n",
      "5/5 [==============================] - 39s - loss: 2.3028 - acc: 0.1125 - val_loss: 2.3030 - val_acc: 0.0813\n",
      "Epoch 24/25\n",
      "5/5 [==============================] - 38s - loss: 2.3047 - acc: 0.0625 - val_loss: 2.3039 - val_acc: 0.0631\n",
      "Epoch 25/25\n",
      "5/5 [==============================] - 36s - loss: 2.3020 - acc: 0.1085 - val_loss: 2.3025 - val_acc: 0.0915\n"
     ]
    },
    {
     "ename": "ImportError",
     "evalue": "`save_weights` requires h5py.",
     "output_type": "error",
     "traceback": [
      "\u001b[0;31m---------------------------------------------------------------------------\u001b[0m",
      "\u001b[0;31mImportError\u001b[0m                               Traceback (most recent call last)",
      "\u001b[0;32m<ipython-input-69-45d466a53df8>\u001b[0m in \u001b[0;36m<module>\u001b[0;34m()\u001b[0m\n\u001b[1;32m     55\u001b[0m         validation_steps=20) #00 // batch_size)\n\u001b[1;32m     56\u001b[0m \u001b[0;34m\u001b[0m\u001b[0m\n\u001b[0;32m---> 57\u001b[0;31m \u001b[0mmodel\u001b[0m\u001b[0;34m.\u001b[0m\u001b[0msave_weights\u001b[0m\u001b[0;34m(\u001b[0m\u001b[0;34m'first_try.h5'\u001b[0m\u001b[0;34m)\u001b[0m  \u001b[0;31m# always save your weights after training or during training\u001b[0m\u001b[0;34m\u001b[0m\u001b[0m\n\u001b[0m",
      "\u001b[0;32m/usr/local/lib/python2.7/dist-packages/keras/models.pyc\u001b[0m in \u001b[0;36msave_weights\u001b[0;34m(self, filepath, overwrite)\u001b[0m\n\u001b[1;32m    723\u001b[0m     \u001b[0;32mdef\u001b[0m \u001b[0msave_weights\u001b[0m\u001b[0;34m(\u001b[0m\u001b[0mself\u001b[0m\u001b[0;34m,\u001b[0m \u001b[0mfilepath\u001b[0m\u001b[0;34m,\u001b[0m \u001b[0moverwrite\u001b[0m\u001b[0;34m=\u001b[0m\u001b[0mTrue\u001b[0m\u001b[0;34m)\u001b[0m\u001b[0;34m:\u001b[0m\u001b[0;34m\u001b[0m\u001b[0m\n\u001b[1;32m    724\u001b[0m         \u001b[0;32mif\u001b[0m \u001b[0mh5py\u001b[0m \u001b[0;32mis\u001b[0m \u001b[0mNone\u001b[0m\u001b[0;34m:\u001b[0m\u001b[0;34m\u001b[0m\u001b[0m\n\u001b[0;32m--> 725\u001b[0;31m             \u001b[0;32mraise\u001b[0m \u001b[0mImportError\u001b[0m\u001b[0;34m(\u001b[0m\u001b[0;34m'`save_weights` requires h5py.'\u001b[0m\u001b[0;34m)\u001b[0m\u001b[0;34m\u001b[0m\u001b[0m\n\u001b[0m\u001b[1;32m    726\u001b[0m         \u001b[0;31m# If file exists and should not be overwritten:\u001b[0m\u001b[0;34m\u001b[0m\u001b[0;34m\u001b[0m\u001b[0m\n\u001b[1;32m    727\u001b[0m         \u001b[0;32mif\u001b[0m \u001b[0;32mnot\u001b[0m \u001b[0moverwrite\u001b[0m \u001b[0;32mand\u001b[0m \u001b[0mos\u001b[0m\u001b[0;34m.\u001b[0m\u001b[0mpath\u001b[0m\u001b[0;34m.\u001b[0m\u001b[0misfile\u001b[0m\u001b[0;34m(\u001b[0m\u001b[0mfilepath\u001b[0m\u001b[0;34m)\u001b[0m\u001b[0;34m:\u001b[0m\u001b[0;34m\u001b[0m\u001b[0m\n",
      "\u001b[0;31mImportError\u001b[0m: `save_weights` requires h5py."
     ]
    }
   ],
   "source": [
    "batch_size = 16\n",
    "\n",
    "# this is a generator that will read pictures found in\n",
    "# subfolers of 'data/train', and indefinitely generate\n",
    "# batches of augmented image data\n",
    "train_generator = datagen.flow_from_directory(\n",
    "        train_set,  # this is the target directory\n",
    "        target_size=(512, 512),  # all images will be resized to 150x150\n",
    "        batch_size=batch_size,\n",
    "        class_mode='categorical')  \n",
    "\n",
    "# this is a similar generator, for validation data\n",
    "validation_generator = datagen.flow_from_directory(\n",
    "        val_set,\n",
    "        target_size=(512, 512),\n",
    "        batch_size=batch_size,\n",
    "        class_mode='categorical')\n",
    "\n",
    "test_generator = test_datagen.flow_from_directory(\n",
    "        test_set,\n",
    "        target_size=(512, 512),\n",
    "        batch_size=batch_size,\n",
    "        class_mode='categorical')\n",
    "\n",
    "model.fit_generator(\n",
    "        train_generator,\n",
    "        steps_per_epoch=5, # // batch_size,\n",
    "        epochs=25,\n",
    "        validation_data=validation_generator,\n",
    "        validation_steps=20) #00 // batch_size)\n",
    "\n",
    "model.save_weights('first_try.h5')  # always save your weights after training or during training"
   ]
  },
  {
   "cell_type": "code",
   "execution_count": null,
   "metadata": {},
   "outputs": [],
   "source": [
    "# JPEG compression with quality factor = 70\n",
    "# JPEG compression with quality factor = 90\n",
    "def jpeg_compression(img_path, q_factor):\n",
    "    img = Image.open(img_path)\n",
    "    img.save(\"../train_compress_/\" + q_factor + folder + \"/\" + q_factor + \"jpg_\" + pic , \"JPEG\", quality=q_factor)\n",
    "\n"
   ]
  },
  {
   "cell_type": "code",
   "execution_count": null,
   "metadata": {},
   "outputs": [],
   "source": []
  }
 ],
 "metadata": {
  "kernelspec": {
   "display_name": "Python 3",
   "language": "python",
   "name": "python3"
  },
  "language_info": {
   "codemirror_mode": {
    "name": "ipython",
    "version": 2
   },
   "file_extension": ".py",
   "mimetype": "text/x-python",
   "name": "python",
   "nbconvert_exporter": "python",
   "pygments_lexer": "ipython2",
   "version": "2.7.12"
  }
 },
 "nbformat": 4,
 "nbformat_minor": 2
}
