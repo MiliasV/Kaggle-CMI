{
 "cells": [
  {
   "cell_type": "code",
   "execution_count": 18,
   "metadata": {},
   "outputs": [],
   "source": [
    "import numpy as np # linear algebra\n",
    "import os\n",
    "from PIL import Image\n",
    "#from skimage.transform import resize\n",
    "from random import shuffle"
   ]
  },
  {
   "cell_type": "code",
   "execution_count": 19,
   "metadata": {},
   "outputs": [
    {
     "name": "stdout",
     "output_type": "stream",
     "text": [
      "['Sony-NEX-7', 'HTC-1-M7', 'Motorola-Droid-Maxx', 'iPhone-6', 'Motorola-Nexus-6', 'Samsung-Galaxy-S4', 'Motorola-X', 'LG-Nexus-5x', 'Samsung-Galaxy-Note3', 'iPhone-4s']\n"
     ]
    }
   ],
   "source": [
    "# define paths\n",
    "train_path = \"../train/\"\n",
    "test_path = \"../test/\"\n",
    "add_data_path = \"../flickr_images/\"\n",
    "\n",
    "# print mobile models\n",
    "models = os.listdir(train_path)\n",
    "print(models)\n"
   ]
  },
  {
   "cell_type": "code",
   "execution_count": 20,
   "metadata": {},
   "outputs": [],
   "source": [
    "# Cropping function\n",
    "def center_crop(img_path, new_width, new_height):\n",
    "        im = Image.open(img_path)\n",
    "        width, height = im.size   # Get dimensions\n",
    "        left = (width - new_width)/2\n",
    "        top = (height - new_height)/2\n",
    "        right = (width + new_width)/2\n",
    "        bottom = (height + new_height)/2\n",
    "        result = im.crop((left, top, right, bottom))\n",
    "        return result        "
   ]
  },
  {
   "cell_type": "code",
   "execution_count": 17,
   "metadata": {},
   "outputs": [
    {
     "name": "stdout",
     "output_type": "stream",
     "text": [
      "Sony-NEX-7\n",
      "HTC-1-M7\n",
      "Motorola-Droid-Maxx\n",
      "iPhone-6\n",
      "Motorola-Nexus-6\n",
      "Samsung-Galaxy-S4\n",
      "Motorola-X\n",
      "LG-Nexus-5x\n",
      "Samsung-Galaxy-Note3\n",
      "iPhone-4s\n"
     ]
    }
   ],
   "source": [
    "# transform images to 512x512 (cropping from the center)\n",
    "new_width = 512\n",
    "new_height = 512\n",
    "\n",
    "for folder in os.listdir(train_path):\n",
    "    print(folder)\n",
    "    for pic in os.listdir(train_path + folder + \"/\"):\n",
    "        img_path = train_path + folder + \"/\" + pic\n",
    "        img_cropped = center_crop(img_path, 512, 512)\n",
    "        directory = \"../train_cropped/\" + folder\n",
    "        # create dir if it doesn't exist\n",
    "        if not os.path.exists(directory):\n",
    "            os.makedirs(directory)\n",
    "        #img_cropped.save(\"../train_cropped/\" + folder + \"/cropped\" + \"_\" + pic )"
   ]
  },
  {
   "cell_type": "code",
   "execution_count": 13,
   "metadata": {},
   "outputs": [
    {
     "name": "stderr",
     "output_type": "stream",
     "text": [
      "Using TensorFlow backend.\n"
     ]
    }
   ],
   "source": [
    "# Image Augmentation\n",
    "from keras.preprocessing.image import ImageDataGenerator\n",
    "\n",
    "datagen = ImageDataGenerator(\n",
    "        rotation_range=40,\n",
    "        width_shift_range=0.2,\n",
    "        height_shift_range=0.2,\n",
    "        rescale=1./255,\n",
    "        shear_range=0.2,\n",
    "        zoom_range=0.2,\n",
    "        horizontal_flip=True,\n",
    "        fill_mode='nearest')"
   ]
  },
  {
   "cell_type": "code",
   "execution_count": null,
   "metadata": {},
   "outputs": [],
   "source": [
    "datagen.fit"
   ]
  },
  {
   "cell_type": "code",
   "execution_count": null,
   "metadata": {},
   "outputs": [],
   "source": [
    "\n",
    "datagen.fit(train)\n",
    "X_batch, y_batch = datagen.flow(X_train, y_train, batch_size=batch_size)\n",
    "model.fit_generator(datagen, samples_per_epoch=len(train), epochs=epochs)"
   ]
  },
  {
   "cell_type": "code",
   "execution_count": null,
   "metadata": {},
   "outputs": [],
   "source": []
  }
 ],
 "metadata": {
  "kernelspec": {
   "display_name": "Python 3",
   "language": "python",
   "name": "python3"
  },
  "language_info": {
   "codemirror_mode": {
    "name": "ipython",
    "version": 2
   },
   "file_extension": ".py",
   "mimetype": "text/x-python",
   "name": "python",
   "nbconvert_exporter": "python",
   "pygments_lexer": "ipython2",
   "version": "2.7.12"
  }
 },
 "nbformat": 4,
 "nbformat_minor": 2
}
